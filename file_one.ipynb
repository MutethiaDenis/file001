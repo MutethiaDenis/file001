{
  "nbformat": 4,
  "nbformat_minor": 0,
  "metadata": {
    "colab": {
      "provenance": [],
      "authorship_tag": "ABX9TyM/9hDBQH8fBmQmdVYEyhlx",
      "include_colab_link": true
    },
    "kernelspec": {
      "name": "python3",
      "display_name": "Python 3"
    },
    "language_info": {
      "name": "python"
    }
  },
  "cells": [
    {
      "cell_type": "markdown",
      "metadata": {
        "id": "view-in-github",
        "colab_type": "text"
      },
      "source": [
        "<a href=\"https://colab.research.google.com/github/MutethiaDenis/file001/blob/main/file_one.ipynb\" target=\"_parent\"><img src=\"https://colab.research.google.com/assets/colab-badge.svg\" alt=\"Open In Colab\"/></a>"
      ]
    },
    {
      "cell_type": "code",
      "source": [
        "print(\"Hi Mr Mutethia\")"
      ],
      "metadata": {
        "colab": {
          "base_uri": "https://localhost:8080/"
        },
        "id": "P--1fAidUaab",
        "outputId": "467fa71e-f636-4a59-c59c-7b98cd9811ce"
      },
      "execution_count": null,
      "outputs": [
        {
          "output_type": "stream",
          "name": "stdout",
          "text": [
            "Hi Mr Mutethia\n"
          ]
        }
      ]
    },
    {
      "cell_type": "markdown",
      "source": [
        "markdown\n",
        "y*prin"
      ],
      "metadata": {
        "id": "CRK45L7cVEb1"
      }
    },
    {
      "cell_type": "code",
      "source": [
        "num=66-33\n",
        "print(num)"
      ],
      "metadata": {
        "colab": {
          "base_uri": "https://localhost:8080/"
        },
        "id": "mp_YkQhvTykm",
        "outputId": "42811840-9b38-4818-85e2-2f482dae058a"
      },
      "execution_count": null,
      "outputs": [
        {
          "output_type": "stream",
          "name": "stdout",
          "text": [
            "33\n"
          ]
        }
      ]
    },
    {
      "cell_type": "code",
      "source": [
        "print('hello world')\n",
        "print(\"My name is Mutethia\")"
      ],
      "metadata": {
        "id": "Qgb10iJBmhJe",
        "colab": {
          "base_uri": "https://localhost:8080/"
        },
        "outputId": "4826710e-505e-401c-b44f-c874fff95cf0"
      },
      "execution_count": 5,
      "outputs": [
        {
          "output_type": "stream",
          "name": "stdout",
          "text": [
            "hello world\n",
            "My name is Mutethia\n"
          ]
        }
      ]
    },
    {
      "cell_type": "code",
      "source": [],
      "metadata": {
        "id": "fTxaPj70nUHq"
      },
      "execution_count": null,
      "outputs": []
    }
  ]
}